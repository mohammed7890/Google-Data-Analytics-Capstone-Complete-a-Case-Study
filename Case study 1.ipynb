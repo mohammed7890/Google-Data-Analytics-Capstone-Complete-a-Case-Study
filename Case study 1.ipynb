{
 "cells": [
  {
   "cell_type": "markdown",
   "id": "d0830e6e",
   "metadata": {},
   "source": [
    "# Google Data Analytics Capstone Project Case Study 1"
   ]
  },
  {
   "cell_type": "markdown",
   "id": "b2c6a720",
   "metadata": {},
   "source": [
    "# Introduction \n",
    " You are a junior data analyst working on the marketing analyst team at Cyclistic, a bike-share\n",
    " company in Chicago. The director of marketing believes the company’s future success\n",
    " depends on maximizing the number of annual memberships. Therefore, your team wants to\n",
    " understand how casual riders and annual members use Cyclistic bikes di erently. From these\n",
    " insights, your team will design a new marketing strategy to convert casual riders into annual\n",
    " members. But first, Cyclistic executives must approve your recommendations, so they must be\n",
    " backed up with compeling data insights and professional data visualizations."
   ]
  },
  {
   "cell_type": "markdown",
   "id": "ff397e82",
   "metadata": {},
   "source": [
    "# ASK"
   ]
  },
  {
   "cell_type": "markdown",
   "id": "757dd8de",
   "metadata": {},
   "source": [
    "Business Task:\n",
    "Design marketing strategies aimed at converting casual riders into annual members.\n",
    "Business Questions:\n",
    "1. How do annual members and casual riders use Cyclistic bikes differently?\n",
    "2. Why would casual riders buy Cyclistic annual memberships?\n",
    "3. How can Cyclistic use digital media to influence casual riders to become members?\n",
    "\n",
    "I am assigned to answer the first question, and thus my analysis will be focused on comparing the annual members and casual riders.\n",
    "\n",
    "Key Stakeholders:\n",
    "\n",
    "1. Lily Moreno — Director of the marketing team and my manager.\n",
    "\n",
    "2. Cyclistic executive team"
   ]
  },
  {
   "cell_type": "markdown",
   "id": "cf8c48b7",
   "metadata": {},
   "source": [
    "# Prepare"
   ]
  },
  {
   "cell_type": "markdown",
   "id": "f8c0cd2a",
   "metadata": {},
   "source": [
    "To conduct a thorough analysis, we have to obtain the Cyclistic historical data trips from June 2024 to Dec 2024"
   ]
  },
  {
   "cell_type": "markdown",
   "id": "6c6868a9",
   "metadata": {},
   "source": [
    "Upon further examination, it is observed that all the files possess the same 13 columns or attributes, and the data types are appropriate and consistent throughout. These columns are as follows:\n",
    "\n",
    "1. ride_id\n",
    "2. rideable_type\n",
    "3. started_at\n",
    "4. ended_at\n",
    "5. start_station_name\n",
    "6. start_station_id\n",
    "7. end_station_name\n",
    "8. end_station_id\n",
    "9. start_lat\n",
    "10. start_lng\n",
    "11. end_lat\n",
    "12. end_lng\n",
    "13. member_casual"
   ]
  },
  {
   "cell_type": "markdown",
   "id": "d41bcbe1",
   "metadata": {},
   "source": [
    "## Process\n",
    "To clean, analyze, and aggregate the large amount of monthly data stored in the folder, we will be using Jupyter — an integrated development environment designed for the programming language Python."
   ]
  },
  {
   "cell_type": "markdown",
   "id": "b0c7ffb6",
   "metadata": {},
   "source": [
    "Next, we will be loading all the packages needed to perform the data manipulation."
   ]
  },
  {
   "cell_type": "code",
   "execution_count": 1,
   "id": "1d31e5b7",
   "metadata": {},
   "outputs": [],
   "source": [
    "import os\n",
    "import numpy as np\n",
    "import pandas as pd\n",
    "from matplotlib import pyplot as plt\n",
    "import datetime \n",
    "import time"
   ]
  },
  {
   "cell_type": "code",
   "execution_count": 2,
   "id": "840a9bd3",
   "metadata": {},
   "outputs": [
    {
     "name": "stdout",
     "output_type": "stream",
     "text": [
      "loading file 202401-divvy-tripdata.csv....\n",
      "loading file 202402-divvy-tripdata.csv....\n",
      "loading file 202403-divvy-tripdata.csv....\n",
      "loading file 202404-divvy-tripdata.csv....\n",
      "loading file 202405-divvy-tripdata.csv....\n",
      "loading file 202406-divvy-tripdata.csv....\n",
      "loading file 202407-divvy-tripdata.csv....\n",
      "loading file 202408-divvy-tripdata.csv....\n",
      "loading file 202409-divvy-tripdata.csv....\n",
      "loading file 202410-divvy-tripdata.csv....\n",
      "loading file 202411-divvy-tripdata.csv....\n",
      "loading file 202412-divvy-tripdata.csv....\n"
     ]
    }
   ],
   "source": [
    "data_file_folder = r\"E:\\Courses\\Google\\8.Google Data Analytics Capstone Complete a Case Study\\Module 2\\Datasets\\202401-202412-divvy-tripdata\"\n",
    "\n",
    "df = []\n",
    "for file in os.listdir(data_file_folder):\n",
    "    if file.endswith('.csv'):\n",
    "        print('loading file {0}....'.format(file))\n",
    "        df.append(pd.read_csv(os.path.join(data_file_folder,file)))"
   ]
  },
  {
   "cell_type": "code",
   "execution_count": 3,
   "id": "3f49d3d8",
   "metadata": {},
   "outputs": [],
   "source": [
    "# concat the files\n",
    "df_master = pd.concat(df)"
   ]
  },
  {
   "cell_type": "code",
   "execution_count": 4,
   "id": "df8af149",
   "metadata": {},
   "outputs": [
    {
     "data": {
      "text/plain": [
       "5860568"
      ]
     },
     "execution_count": 4,
     "metadata": {},
     "output_type": "execute_result"
    }
   ],
   "source": [
    "# check the length of the dataset \n",
    "len(df_master)"
   ]
  },
  {
   "cell_type": "code",
   "execution_count": 5,
   "id": "aff5dfef",
   "metadata": {},
   "outputs": [
    {
     "data": {
      "text/html": [
       "<div>\n",
       "<style scoped>\n",
       "    .dataframe tbody tr th:only-of-type {\n",
       "        vertical-align: middle;\n",
       "    }\n",
       "\n",
       "    .dataframe tbody tr th {\n",
       "        vertical-align: top;\n",
       "    }\n",
       "\n",
       "    .dataframe thead th {\n",
       "        text-align: right;\n",
       "    }\n",
       "</style>\n",
       "<table border=\"1\" class=\"dataframe\">\n",
       "  <thead>\n",
       "    <tr style=\"text-align: right;\">\n",
       "      <th></th>\n",
       "      <th>ride_id</th>\n",
       "      <th>rideable_type</th>\n",
       "      <th>started_at</th>\n",
       "      <th>ended_at</th>\n",
       "      <th>start_station_name</th>\n",
       "      <th>start_station_id</th>\n",
       "      <th>end_station_name</th>\n",
       "      <th>end_station_id</th>\n",
       "      <th>start_lat</th>\n",
       "      <th>start_lng</th>\n",
       "      <th>end_lat</th>\n",
       "      <th>end_lng</th>\n",
       "      <th>member_casual</th>\n",
       "    </tr>\n",
       "  </thead>\n",
       "  <tbody>\n",
       "    <tr>\n",
       "      <th>0</th>\n",
       "      <td>C1D650626C8C899A</td>\n",
       "      <td>electric_bike</td>\n",
       "      <td>2024-01-12 15:30:27</td>\n",
       "      <td>2024-01-12 15:37:59</td>\n",
       "      <td>Wells St &amp; Elm St</td>\n",
       "      <td>KA1504000135</td>\n",
       "      <td>Kingsbury St &amp; Kinzie St</td>\n",
       "      <td>KA1503000043</td>\n",
       "      <td>41.903267</td>\n",
       "      <td>-87.634737</td>\n",
       "      <td>41.889177</td>\n",
       "      <td>-87.638506</td>\n",
       "      <td>member</td>\n",
       "    </tr>\n",
       "    <tr>\n",
       "      <th>1</th>\n",
       "      <td>EECD38BDB25BFCB0</td>\n",
       "      <td>electric_bike</td>\n",
       "      <td>2024-01-08 15:45:46</td>\n",
       "      <td>2024-01-08 15:52:59</td>\n",
       "      <td>Wells St &amp; Elm St</td>\n",
       "      <td>KA1504000135</td>\n",
       "      <td>Kingsbury St &amp; Kinzie St</td>\n",
       "      <td>KA1503000043</td>\n",
       "      <td>41.902937</td>\n",
       "      <td>-87.634440</td>\n",
       "      <td>41.889177</td>\n",
       "      <td>-87.638506</td>\n",
       "      <td>member</td>\n",
       "    </tr>\n",
       "    <tr>\n",
       "      <th>2</th>\n",
       "      <td>F4A9CE78061F17F7</td>\n",
       "      <td>electric_bike</td>\n",
       "      <td>2024-01-27 12:27:19</td>\n",
       "      <td>2024-01-27 12:35:19</td>\n",
       "      <td>Wells St &amp; Elm St</td>\n",
       "      <td>KA1504000135</td>\n",
       "      <td>Kingsbury St &amp; Kinzie St</td>\n",
       "      <td>KA1503000043</td>\n",
       "      <td>41.902951</td>\n",
       "      <td>-87.634470</td>\n",
       "      <td>41.889177</td>\n",
       "      <td>-87.638506</td>\n",
       "      <td>member</td>\n",
       "    </tr>\n",
       "    <tr>\n",
       "      <th>3</th>\n",
       "      <td>0A0D9E15EE50B171</td>\n",
       "      <td>classic_bike</td>\n",
       "      <td>2024-01-29 16:26:17</td>\n",
       "      <td>2024-01-29 16:56:06</td>\n",
       "      <td>Wells St &amp; Randolph St</td>\n",
       "      <td>TA1305000030</td>\n",
       "      <td>Larrabee St &amp; Webster Ave</td>\n",
       "      <td>13193</td>\n",
       "      <td>41.884295</td>\n",
       "      <td>-87.633963</td>\n",
       "      <td>41.921822</td>\n",
       "      <td>-87.644140</td>\n",
       "      <td>member</td>\n",
       "    </tr>\n",
       "    <tr>\n",
       "      <th>4</th>\n",
       "      <td>33FFC9805E3EFF9A</td>\n",
       "      <td>classic_bike</td>\n",
       "      <td>2024-01-31 05:43:23</td>\n",
       "      <td>2024-01-31 06:09:35</td>\n",
       "      <td>Lincoln Ave &amp; Waveland Ave</td>\n",
       "      <td>13253</td>\n",
       "      <td>Kingsbury St &amp; Kinzie St</td>\n",
       "      <td>KA1503000043</td>\n",
       "      <td>41.948797</td>\n",
       "      <td>-87.675278</td>\n",
       "      <td>41.889177</td>\n",
       "      <td>-87.638506</td>\n",
       "      <td>member</td>\n",
       "    </tr>\n",
       "  </tbody>\n",
       "</table>\n",
       "</div>"
      ],
      "text/plain": [
       "            ride_id  rideable_type           started_at             ended_at  \\\n",
       "0  C1D650626C8C899A  electric_bike  2024-01-12 15:30:27  2024-01-12 15:37:59   \n",
       "1  EECD38BDB25BFCB0  electric_bike  2024-01-08 15:45:46  2024-01-08 15:52:59   \n",
       "2  F4A9CE78061F17F7  electric_bike  2024-01-27 12:27:19  2024-01-27 12:35:19   \n",
       "3  0A0D9E15EE50B171   classic_bike  2024-01-29 16:26:17  2024-01-29 16:56:06   \n",
       "4  33FFC9805E3EFF9A   classic_bike  2024-01-31 05:43:23  2024-01-31 06:09:35   \n",
       "\n",
       "           start_station_name start_station_id           end_station_name  \\\n",
       "0           Wells St & Elm St     KA1504000135   Kingsbury St & Kinzie St   \n",
       "1           Wells St & Elm St     KA1504000135   Kingsbury St & Kinzie St   \n",
       "2           Wells St & Elm St     KA1504000135   Kingsbury St & Kinzie St   \n",
       "3      Wells St & Randolph St     TA1305000030  Larrabee St & Webster Ave   \n",
       "4  Lincoln Ave & Waveland Ave            13253   Kingsbury St & Kinzie St   \n",
       "\n",
       "  end_station_id  start_lat  start_lng    end_lat    end_lng member_casual  \n",
       "0   KA1503000043  41.903267 -87.634737  41.889177 -87.638506        member  \n",
       "1   KA1503000043  41.902937 -87.634440  41.889177 -87.638506        member  \n",
       "2   KA1503000043  41.902951 -87.634470  41.889177 -87.638506        member  \n",
       "3          13193  41.884295 -87.633963  41.921822 -87.644140        member  \n",
       "4   KA1503000043  41.948797 -87.675278  41.889177 -87.638506        member  "
      ]
     },
     "execution_count": 5,
     "metadata": {},
     "output_type": "execute_result"
    }
   ],
   "source": [
    "df_master.head()"
   ]
  },
  {
   "cell_type": "code",
   "execution_count": 6,
   "id": "c7fee2e7",
   "metadata": {
    "scrolled": true
   },
   "outputs": [
    {
     "data": {
      "text/plain": [
       "ride_id                object\n",
       "rideable_type          object\n",
       "started_at             object\n",
       "ended_at               object\n",
       "start_station_name     object\n",
       "start_station_id       object\n",
       "end_station_name       object\n",
       "end_station_id         object\n",
       "start_lat             float64\n",
       "start_lng             float64\n",
       "end_lat               float64\n",
       "end_lng               float64\n",
       "member_casual          object\n",
       "dtype: object"
      ]
     },
     "execution_count": 6,
     "metadata": {},
     "output_type": "execute_result"
    }
   ],
   "source": [
    "df_master.dtypes"
   ]
  },
  {
   "cell_type": "code",
   "execution_count": 7,
   "id": "a43251a6",
   "metadata": {},
   "outputs": [],
   "source": [
    "df_master['started_at'] = pd.to_datetime(df_master['started_at'], errors='coerce')\n",
    "df_master['ended_at'] = pd.to_datetime(df_master['ended_at'], errors='coerce')"
   ]
  },
  {
   "cell_type": "markdown",
   "id": "d8b57841",
   "metadata": {},
   "source": [
    "Check the missing values"
   ]
  },
  {
   "cell_type": "code",
   "execution_count": 8,
   "id": "fd06ba33",
   "metadata": {},
   "outputs": [
    {
     "data": {
      "text/plain": [
       "ride_id                     0\n",
       "rideable_type               0\n",
       "started_at                  0\n",
       "ended_at                    0\n",
       "start_station_name    1073951\n",
       "start_station_id      1073951\n",
       "end_station_name      1104653\n",
       "end_station_id        1104653\n",
       "start_lat                   0\n",
       "start_lng                   0\n",
       "end_lat                  7232\n",
       "end_lng                  7232\n",
       "member_casual               0\n",
       "dtype: int64"
      ]
     },
     "execution_count": 8,
     "metadata": {},
     "output_type": "execute_result"
    }
   ],
   "source": [
    "df_master.isnull().sum()"
   ]
  },
  {
   "cell_type": "code",
   "execution_count": 9,
   "id": "39960054",
   "metadata": {},
   "outputs": [
    {
     "data": {
      "text/html": [
       "<div>\n",
       "<style scoped>\n",
       "    .dataframe tbody tr th:only-of-type {\n",
       "        vertical-align: middle;\n",
       "    }\n",
       "\n",
       "    .dataframe tbody tr th {\n",
       "        vertical-align: top;\n",
       "    }\n",
       "\n",
       "    .dataframe thead th {\n",
       "        text-align: right;\n",
       "    }\n",
       "</style>\n",
       "<table border=\"1\" class=\"dataframe\">\n",
       "  <thead>\n",
       "    <tr style=\"text-align: right;\">\n",
       "      <th></th>\n",
       "      <th>ride_id</th>\n",
       "      <th>rideable_type</th>\n",
       "      <th>started_at</th>\n",
       "      <th>ended_at</th>\n",
       "      <th>start_station_name</th>\n",
       "      <th>start_station_id</th>\n",
       "      <th>end_station_name</th>\n",
       "      <th>end_station_id</th>\n",
       "      <th>start_lat</th>\n",
       "      <th>start_lng</th>\n",
       "      <th>end_lat</th>\n",
       "      <th>end_lng</th>\n",
       "      <th>member_casual</th>\n",
       "    </tr>\n",
       "  </thead>\n",
       "  <tbody>\n",
       "    <tr>\n",
       "      <th>108385</th>\n",
       "      <td>E48D45D0BEA535AD</td>\n",
       "      <td>electric_bike</td>\n",
       "      <td>2024-01-26 14:50:26.000</td>\n",
       "      <td>2024-01-26 14:51:31.000</td>\n",
       "      <td>NaN</td>\n",
       "      <td>NaN</td>\n",
       "      <td>Broadway &amp; Sheridan Rd</td>\n",
       "      <td>13323</td>\n",
       "      <td>41.95</td>\n",
       "      <td>-87.65</td>\n",
       "      <td>41.952833</td>\n",
       "      <td>-87.649993</td>\n",
       "      <td>member</td>\n",
       "    </tr>\n",
       "    <tr>\n",
       "      <th>108386</th>\n",
       "      <td>3F000D110338A447</td>\n",
       "      <td>electric_bike</td>\n",
       "      <td>2024-01-04 07:29:34.000</td>\n",
       "      <td>2024-01-04 07:53:22.000</td>\n",
       "      <td>NaN</td>\n",
       "      <td>NaN</td>\n",
       "      <td>Damen Ave &amp; Division St</td>\n",
       "      <td>13136</td>\n",
       "      <td>41.97</td>\n",
       "      <td>-87.65</td>\n",
       "      <td>41.903266</td>\n",
       "      <td>-87.678435</td>\n",
       "      <td>member</td>\n",
       "    </tr>\n",
       "    <tr>\n",
       "      <th>108387</th>\n",
       "      <td>A28CE0443B032821</td>\n",
       "      <td>electric_bike</td>\n",
       "      <td>2024-01-13 20:27:12.000</td>\n",
       "      <td>2024-01-13 20:37:38.000</td>\n",
       "      <td>NaN</td>\n",
       "      <td>NaN</td>\n",
       "      <td>Pine Grove Ave &amp; Waveland Ave</td>\n",
       "      <td>TA1307000150</td>\n",
       "      <td>41.95</td>\n",
       "      <td>-87.68</td>\n",
       "      <td>41.949202</td>\n",
       "      <td>-87.646353</td>\n",
       "      <td>member</td>\n",
       "    </tr>\n",
       "    <tr>\n",
       "      <th>108388</th>\n",
       "      <td>1D32548D0C9C502B</td>\n",
       "      <td>electric_bike</td>\n",
       "      <td>2024-01-22 17:07:32.000</td>\n",
       "      <td>2024-01-22 17:13:51.000</td>\n",
       "      <td>NaN</td>\n",
       "      <td>NaN</td>\n",
       "      <td>Drexel Ave &amp; 60th St</td>\n",
       "      <td>22005</td>\n",
       "      <td>41.79</td>\n",
       "      <td>-87.59</td>\n",
       "      <td>41.785861</td>\n",
       "      <td>-87.604553</td>\n",
       "      <td>member</td>\n",
       "    </tr>\n",
       "    <tr>\n",
       "      <th>108389</th>\n",
       "      <td>39E6453D9DD466DE</td>\n",
       "      <td>electric_bike</td>\n",
       "      <td>2024-01-05 15:51:29.000</td>\n",
       "      <td>2024-01-05 15:56:08.000</td>\n",
       "      <td>NaN</td>\n",
       "      <td>NaN</td>\n",
       "      <td>Lincoln Ave &amp; Diversey Pkwy</td>\n",
       "      <td>TA1307000064</td>\n",
       "      <td>41.93</td>\n",
       "      <td>-87.64</td>\n",
       "      <td>41.932225</td>\n",
       "      <td>-87.658617</td>\n",
       "      <td>member</td>\n",
       "    </tr>\n",
       "    <tr>\n",
       "      <th>...</th>\n",
       "      <td>...</td>\n",
       "      <td>...</td>\n",
       "      <td>...</td>\n",
       "      <td>...</td>\n",
       "      <td>...</td>\n",
       "      <td>...</td>\n",
       "      <td>...</td>\n",
       "      <td>...</td>\n",
       "      <td>...</td>\n",
       "      <td>...</td>\n",
       "      <td>...</td>\n",
       "      <td>...</td>\n",
       "      <td>...</td>\n",
       "    </tr>\n",
       "    <tr>\n",
       "      <th>175773</th>\n",
       "      <td>1C9003B118722122</td>\n",
       "      <td>electric_bike</td>\n",
       "      <td>2024-12-19 22:05:02.708</td>\n",
       "      <td>2024-12-19 22:12:43.371</td>\n",
       "      <td>NaN</td>\n",
       "      <td>NaN</td>\n",
       "      <td>NaN</td>\n",
       "      <td>NaN</td>\n",
       "      <td>41.92</td>\n",
       "      <td>-87.70</td>\n",
       "      <td>41.920000</td>\n",
       "      <td>-87.710000</td>\n",
       "      <td>member</td>\n",
       "    </tr>\n",
       "    <tr>\n",
       "      <th>175774</th>\n",
       "      <td>DAFD865E633DCC3E</td>\n",
       "      <td>electric_bike</td>\n",
       "      <td>2024-12-27 13:52:35.255</td>\n",
       "      <td>2024-12-27 14:04:32.767</td>\n",
       "      <td>NaN</td>\n",
       "      <td>NaN</td>\n",
       "      <td>NaN</td>\n",
       "      <td>NaN</td>\n",
       "      <td>41.90</td>\n",
       "      <td>-87.68</td>\n",
       "      <td>41.890000</td>\n",
       "      <td>-87.630000</td>\n",
       "      <td>member</td>\n",
       "    </tr>\n",
       "    <tr>\n",
       "      <th>175775</th>\n",
       "      <td>71639EB9E374EFBF</td>\n",
       "      <td>electric_bike</td>\n",
       "      <td>2024-12-27 17:51:19.245</td>\n",
       "      <td>2024-12-27 17:58:08.002</td>\n",
       "      <td>NaN</td>\n",
       "      <td>NaN</td>\n",
       "      <td>NaN</td>\n",
       "      <td>NaN</td>\n",
       "      <td>41.80</td>\n",
       "      <td>-87.58</td>\n",
       "      <td>41.800000</td>\n",
       "      <td>-87.580000</td>\n",
       "      <td>member</td>\n",
       "    </tr>\n",
       "    <tr>\n",
       "      <th>175776</th>\n",
       "      <td>DE2D77DB6155D684</td>\n",
       "      <td>electric_bike</td>\n",
       "      <td>2024-12-26 19:42:04.430</td>\n",
       "      <td>2024-12-26 19:48:04.222</td>\n",
       "      <td>NaN</td>\n",
       "      <td>NaN</td>\n",
       "      <td>NaN</td>\n",
       "      <td>NaN</td>\n",
       "      <td>41.91</td>\n",
       "      <td>-87.67</td>\n",
       "      <td>41.910000</td>\n",
       "      <td>-87.670000</td>\n",
       "      <td>member</td>\n",
       "    </tr>\n",
       "    <tr>\n",
       "      <th>175777</th>\n",
       "      <td>62B06D6F5636A850</td>\n",
       "      <td>electric_bike</td>\n",
       "      <td>2024-12-07 20:59:02.883</td>\n",
       "      <td>2024-12-07 21:03:18.620</td>\n",
       "      <td>NaN</td>\n",
       "      <td>NaN</td>\n",
       "      <td>NaN</td>\n",
       "      <td>NaN</td>\n",
       "      <td>41.88</td>\n",
       "      <td>-87.67</td>\n",
       "      <td>41.870000</td>\n",
       "      <td>-87.670000</td>\n",
       "      <td>member</td>\n",
       "    </tr>\n",
       "  </tbody>\n",
       "</table>\n",
       "<p>1073951 rows × 13 columns</p>\n",
       "</div>"
      ],
      "text/plain": [
       "                 ride_id  rideable_type              started_at  \\\n",
       "108385  E48D45D0BEA535AD  electric_bike 2024-01-26 14:50:26.000   \n",
       "108386  3F000D110338A447  electric_bike 2024-01-04 07:29:34.000   \n",
       "108387  A28CE0443B032821  electric_bike 2024-01-13 20:27:12.000   \n",
       "108388  1D32548D0C9C502B  electric_bike 2024-01-22 17:07:32.000   \n",
       "108389  39E6453D9DD466DE  electric_bike 2024-01-05 15:51:29.000   \n",
       "...                  ...            ...                     ...   \n",
       "175773  1C9003B118722122  electric_bike 2024-12-19 22:05:02.708   \n",
       "175774  DAFD865E633DCC3E  electric_bike 2024-12-27 13:52:35.255   \n",
       "175775  71639EB9E374EFBF  electric_bike 2024-12-27 17:51:19.245   \n",
       "175776  DE2D77DB6155D684  electric_bike 2024-12-26 19:42:04.430   \n",
       "175777  62B06D6F5636A850  electric_bike 2024-12-07 20:59:02.883   \n",
       "\n",
       "                      ended_at start_station_name start_station_id  \\\n",
       "108385 2024-01-26 14:51:31.000                NaN              NaN   \n",
       "108386 2024-01-04 07:53:22.000                NaN              NaN   \n",
       "108387 2024-01-13 20:37:38.000                NaN              NaN   \n",
       "108388 2024-01-22 17:13:51.000                NaN              NaN   \n",
       "108389 2024-01-05 15:56:08.000                NaN              NaN   \n",
       "...                        ...                ...              ...   \n",
       "175773 2024-12-19 22:12:43.371                NaN              NaN   \n",
       "175774 2024-12-27 14:04:32.767                NaN              NaN   \n",
       "175775 2024-12-27 17:58:08.002                NaN              NaN   \n",
       "175776 2024-12-26 19:48:04.222                NaN              NaN   \n",
       "175777 2024-12-07 21:03:18.620                NaN              NaN   \n",
       "\n",
       "                     end_station_name end_station_id  start_lat  start_lng  \\\n",
       "108385         Broadway & Sheridan Rd          13323      41.95     -87.65   \n",
       "108386        Damen Ave & Division St          13136      41.97     -87.65   \n",
       "108387  Pine Grove Ave & Waveland Ave   TA1307000150      41.95     -87.68   \n",
       "108388           Drexel Ave & 60th St          22005      41.79     -87.59   \n",
       "108389    Lincoln Ave & Diversey Pkwy   TA1307000064      41.93     -87.64   \n",
       "...                               ...            ...        ...        ...   \n",
       "175773                            NaN            NaN      41.92     -87.70   \n",
       "175774                            NaN            NaN      41.90     -87.68   \n",
       "175775                            NaN            NaN      41.80     -87.58   \n",
       "175776                            NaN            NaN      41.91     -87.67   \n",
       "175777                            NaN            NaN      41.88     -87.67   \n",
       "\n",
       "          end_lat    end_lng member_casual  \n",
       "108385  41.952833 -87.649993        member  \n",
       "108386  41.903266 -87.678435        member  \n",
       "108387  41.949202 -87.646353        member  \n",
       "108388  41.785861 -87.604553        member  \n",
       "108389  41.932225 -87.658617        member  \n",
       "...           ...        ...           ...  \n",
       "175773  41.920000 -87.710000        member  \n",
       "175774  41.890000 -87.630000        member  \n",
       "175775  41.800000 -87.580000        member  \n",
       "175776  41.910000 -87.670000        member  \n",
       "175777  41.870000 -87.670000        member  \n",
       "\n",
       "[1073951 rows x 13 columns]"
      ]
     },
     "execution_count": 9,
     "metadata": {},
     "output_type": "execute_result"
    }
   ],
   "source": [
    "# check if the missing data are in same row\n",
    "df_master[df_master['start_station_name'].isnull()]"
   ]
  },
  {
   "cell_type": "markdown",
   "id": "dab6f761",
   "metadata": {},
   "source": [
    "Remove the Missing Values"
   ]
  },
  {
   "cell_type": "code",
   "execution_count": 10,
   "id": "59eb338b",
   "metadata": {},
   "outputs": [],
   "source": [
    "df_cleaned=df_master.dropna()"
   ]
  },
  {
   "cell_type": "code",
   "execution_count": 11,
   "id": "caa61737",
   "metadata": {},
   "outputs": [
    {
     "data": {
      "text/plain": [
       "ride_id               0\n",
       "rideable_type         0\n",
       "started_at            0\n",
       "ended_at              0\n",
       "start_station_name    0\n",
       "start_station_id      0\n",
       "end_station_name      0\n",
       "end_station_id        0\n",
       "start_lat             0\n",
       "start_lng             0\n",
       "end_lat               0\n",
       "end_lng               0\n",
       "member_casual         0\n",
       "dtype: int64"
      ]
     },
     "execution_count": 11,
     "metadata": {},
     "output_type": "execute_result"
    }
   ],
   "source": [
    "# Check the missing values again\n",
    "df_cleaned.isnull().sum()"
   ]
  },
  {
   "cell_type": "code",
   "execution_count": 12,
   "id": "bda46327",
   "metadata": {},
   "outputs": [
    {
     "data": {
      "text/plain": [
       "4208188"
      ]
     },
     "execution_count": 12,
     "metadata": {},
     "output_type": "execute_result"
    }
   ],
   "source": [
    "# check the unique ride_id count\n",
    "df_cleaned['ride_id'].nunique()"
   ]
  },
  {
   "cell_type": "code",
   "execution_count": 13,
   "id": "61723402",
   "metadata": {},
   "outputs": [
    {
     "data": {
      "text/plain": [
       "array(['electric_bike', 'classic_bike', 'electric_scooter'], dtype=object)"
      ]
     },
     "execution_count": 13,
     "metadata": {},
     "output_type": "execute_result"
    }
   ],
   "source": [
    "# check the unque rideable_type values \n",
    "df_cleaned['rideable_type'].unique()"
   ]
  },
  {
   "cell_type": "code",
   "execution_count": 14,
   "id": "13d220ab",
   "metadata": {},
   "outputs": [
    {
     "data": {
      "text/plain": [
       "array(['member', 'casual'], dtype=object)"
      ]
     },
     "execution_count": 14,
     "metadata": {},
     "output_type": "execute_result"
    }
   ],
   "source": [
    "# check the unque member_casual values \n",
    "df_cleaned['member_casual'].unique()"
   ]
  },
  {
   "cell_type": "code",
   "execution_count": 15,
   "id": "ceba1ef6",
   "metadata": {},
   "outputs": [
    {
     "name": "stderr",
     "output_type": "stream",
     "text": [
      "C:\\Users\\mhmds\\AppData\\Local\\Temp\\ipykernel_6512\\3992319746.py:2: SettingWithCopyWarning: \n",
      "A value is trying to be set on a copy of a slice from a DataFrame.\n",
      "Try using .loc[row_indexer,col_indexer] = value instead\n",
      "\n",
      "See the caveats in the documentation: https://pandas.pydata.org/pandas-docs/stable/user_guide/indexing.html#returning-a-view-versus-a-copy\n",
      "  df_cleaned['date_of_the_ride'] = df_cleaned['started_at'].dt.date\n",
      "C:\\Users\\mhmds\\AppData\\Local\\Temp\\ipykernel_6512\\3992319746.py:3: SettingWithCopyWarning: \n",
      "A value is trying to be set on a copy of a slice from a DataFrame.\n",
      "Try using .loc[row_indexer,col_indexer] = value instead\n",
      "\n",
      "See the caveats in the documentation: https://pandas.pydata.org/pandas-docs/stable/user_guide/indexing.html#returning-a-view-versus-a-copy\n",
      "  df_cleaned['quarter'] = df_cleaned['started_at'].dt.quarter\n",
      "C:\\Users\\mhmds\\AppData\\Local\\Temp\\ipykernel_6512\\3992319746.py:4: SettingWithCopyWarning: \n",
      "A value is trying to be set on a copy of a slice from a DataFrame.\n",
      "Try using .loc[row_indexer,col_indexer] = value instead\n",
      "\n",
      "See the caveats in the documentation: https://pandas.pydata.org/pandas-docs/stable/user_guide/indexing.html#returning-a-view-versus-a-copy\n",
      "  df_cleaned['month'] = df_cleaned['started_at'].dt.month\n",
      "C:\\Users\\mhmds\\AppData\\Local\\Temp\\ipykernel_6512\\3992319746.py:5: SettingWithCopyWarning: \n",
      "A value is trying to be set on a copy of a slice from a DataFrame.\n",
      "Try using .loc[row_indexer,col_indexer] = value instead\n",
      "\n",
      "See the caveats in the documentation: https://pandas.pydata.org/pandas-docs/stable/user_guide/indexing.html#returning-a-view-versus-a-copy\n",
      "  df_cleaned['hour'] = df_cleaned['started_at'].dt.hour\n"
     ]
    },
    {
     "data": {
      "text/html": [
       "<div>\n",
       "<style scoped>\n",
       "    .dataframe tbody tr th:only-of-type {\n",
       "        vertical-align: middle;\n",
       "    }\n",
       "\n",
       "    .dataframe tbody tr th {\n",
       "        vertical-align: top;\n",
       "    }\n",
       "\n",
       "    .dataframe thead th {\n",
       "        text-align: right;\n",
       "    }\n",
       "</style>\n",
       "<table border=\"1\" class=\"dataframe\">\n",
       "  <thead>\n",
       "    <tr style=\"text-align: right;\">\n",
       "      <th></th>\n",
       "      <th>ride_id</th>\n",
       "      <th>rideable_type</th>\n",
       "      <th>started_at</th>\n",
       "      <th>ended_at</th>\n",
       "      <th>start_station_name</th>\n",
       "      <th>start_station_id</th>\n",
       "      <th>end_station_name</th>\n",
       "      <th>end_station_id</th>\n",
       "      <th>start_lat</th>\n",
       "      <th>start_lng</th>\n",
       "      <th>end_lat</th>\n",
       "      <th>end_lng</th>\n",
       "      <th>member_casual</th>\n",
       "      <th>date_of_the_ride</th>\n",
       "      <th>quarter</th>\n",
       "      <th>month</th>\n",
       "      <th>hour</th>\n",
       "    </tr>\n",
       "  </thead>\n",
       "  <tbody>\n",
       "    <tr>\n",
       "      <th>0</th>\n",
       "      <td>C1D650626C8C899A</td>\n",
       "      <td>electric_bike</td>\n",
       "      <td>2024-01-12 15:30:27</td>\n",
       "      <td>2024-01-12 15:37:59</td>\n",
       "      <td>Wells St &amp; Elm St</td>\n",
       "      <td>KA1504000135</td>\n",
       "      <td>Kingsbury St &amp; Kinzie St</td>\n",
       "      <td>KA1503000043</td>\n",
       "      <td>41.903267</td>\n",
       "      <td>-87.634737</td>\n",
       "      <td>41.889177</td>\n",
       "      <td>-87.638506</td>\n",
       "      <td>member</td>\n",
       "      <td>2024-01-12</td>\n",
       "      <td>1</td>\n",
       "      <td>1</td>\n",
       "      <td>15</td>\n",
       "    </tr>\n",
       "    <tr>\n",
       "      <th>1</th>\n",
       "      <td>EECD38BDB25BFCB0</td>\n",
       "      <td>electric_bike</td>\n",
       "      <td>2024-01-08 15:45:46</td>\n",
       "      <td>2024-01-08 15:52:59</td>\n",
       "      <td>Wells St &amp; Elm St</td>\n",
       "      <td>KA1504000135</td>\n",
       "      <td>Kingsbury St &amp; Kinzie St</td>\n",
       "      <td>KA1503000043</td>\n",
       "      <td>41.902937</td>\n",
       "      <td>-87.634440</td>\n",
       "      <td>41.889177</td>\n",
       "      <td>-87.638506</td>\n",
       "      <td>member</td>\n",
       "      <td>2024-01-08</td>\n",
       "      <td>1</td>\n",
       "      <td>1</td>\n",
       "      <td>15</td>\n",
       "    </tr>\n",
       "    <tr>\n",
       "      <th>2</th>\n",
       "      <td>F4A9CE78061F17F7</td>\n",
       "      <td>electric_bike</td>\n",
       "      <td>2024-01-27 12:27:19</td>\n",
       "      <td>2024-01-27 12:35:19</td>\n",
       "      <td>Wells St &amp; Elm St</td>\n",
       "      <td>KA1504000135</td>\n",
       "      <td>Kingsbury St &amp; Kinzie St</td>\n",
       "      <td>KA1503000043</td>\n",
       "      <td>41.902951</td>\n",
       "      <td>-87.634470</td>\n",
       "      <td>41.889177</td>\n",
       "      <td>-87.638506</td>\n",
       "      <td>member</td>\n",
       "      <td>2024-01-27</td>\n",
       "      <td>1</td>\n",
       "      <td>1</td>\n",
       "      <td>12</td>\n",
       "    </tr>\n",
       "    <tr>\n",
       "      <th>3</th>\n",
       "      <td>0A0D9E15EE50B171</td>\n",
       "      <td>classic_bike</td>\n",
       "      <td>2024-01-29 16:26:17</td>\n",
       "      <td>2024-01-29 16:56:06</td>\n",
       "      <td>Wells St &amp; Randolph St</td>\n",
       "      <td>TA1305000030</td>\n",
       "      <td>Larrabee St &amp; Webster Ave</td>\n",
       "      <td>13193</td>\n",
       "      <td>41.884295</td>\n",
       "      <td>-87.633963</td>\n",
       "      <td>41.921822</td>\n",
       "      <td>-87.644140</td>\n",
       "      <td>member</td>\n",
       "      <td>2024-01-29</td>\n",
       "      <td>1</td>\n",
       "      <td>1</td>\n",
       "      <td>16</td>\n",
       "    </tr>\n",
       "    <tr>\n",
       "      <th>4</th>\n",
       "      <td>33FFC9805E3EFF9A</td>\n",
       "      <td>classic_bike</td>\n",
       "      <td>2024-01-31 05:43:23</td>\n",
       "      <td>2024-01-31 06:09:35</td>\n",
       "      <td>Lincoln Ave &amp; Waveland Ave</td>\n",
       "      <td>13253</td>\n",
       "      <td>Kingsbury St &amp; Kinzie St</td>\n",
       "      <td>KA1503000043</td>\n",
       "      <td>41.948797</td>\n",
       "      <td>-87.675278</td>\n",
       "      <td>41.889177</td>\n",
       "      <td>-87.638506</td>\n",
       "      <td>member</td>\n",
       "      <td>2024-01-31</td>\n",
       "      <td>1</td>\n",
       "      <td>1</td>\n",
       "      <td>5</td>\n",
       "    </tr>\n",
       "  </tbody>\n",
       "</table>\n",
       "</div>"
      ],
      "text/plain": [
       "            ride_id  rideable_type          started_at            ended_at  \\\n",
       "0  C1D650626C8C899A  electric_bike 2024-01-12 15:30:27 2024-01-12 15:37:59   \n",
       "1  EECD38BDB25BFCB0  electric_bike 2024-01-08 15:45:46 2024-01-08 15:52:59   \n",
       "2  F4A9CE78061F17F7  electric_bike 2024-01-27 12:27:19 2024-01-27 12:35:19   \n",
       "3  0A0D9E15EE50B171   classic_bike 2024-01-29 16:26:17 2024-01-29 16:56:06   \n",
       "4  33FFC9805E3EFF9A   classic_bike 2024-01-31 05:43:23 2024-01-31 06:09:35   \n",
       "\n",
       "           start_station_name start_station_id           end_station_name  \\\n",
       "0           Wells St & Elm St     KA1504000135   Kingsbury St & Kinzie St   \n",
       "1           Wells St & Elm St     KA1504000135   Kingsbury St & Kinzie St   \n",
       "2           Wells St & Elm St     KA1504000135   Kingsbury St & Kinzie St   \n",
       "3      Wells St & Randolph St     TA1305000030  Larrabee St & Webster Ave   \n",
       "4  Lincoln Ave & Waveland Ave            13253   Kingsbury St & Kinzie St   \n",
       "\n",
       "  end_station_id  start_lat  start_lng    end_lat    end_lng member_casual  \\\n",
       "0   KA1503000043  41.903267 -87.634737  41.889177 -87.638506        member   \n",
       "1   KA1503000043  41.902937 -87.634440  41.889177 -87.638506        member   \n",
       "2   KA1503000043  41.902951 -87.634470  41.889177 -87.638506        member   \n",
       "3          13193  41.884295 -87.633963  41.921822 -87.644140        member   \n",
       "4   KA1503000043  41.948797 -87.675278  41.889177 -87.638506        member   \n",
       "\n",
       "  date_of_the_ride  quarter  month  hour  \n",
       "0       2024-01-12        1      1    15  \n",
       "1       2024-01-08        1      1    15  \n",
       "2       2024-01-27        1      1    12  \n",
       "3       2024-01-29        1      1    16  \n",
       "4       2024-01-31        1      1     5  "
      ]
     },
     "execution_count": 15,
     "metadata": {},
     "output_type": "execute_result"
    }
   ],
   "source": [
    "# create a date, year, quarter and a month column\n",
    "df_cleaned['date_of_the_ride'] = df_cleaned['started_at'].dt.date\n",
    "df_cleaned['quarter'] = df_cleaned['started_at'].dt.quarter\n",
    "df_cleaned['month'] = df_cleaned['started_at'].dt.month\n",
    "df_cleaned['hour'] = df_cleaned['started_at'].dt.hour\n",
    "\n",
    "\n",
    "# check the df again\n",
    "df_cleaned.head()"
   ]
  },
  {
   "cell_type": "code",
   "execution_count": 16,
   "id": "4623b354",
   "metadata": {},
   "outputs": [
    {
     "name": "stderr",
     "output_type": "stream",
     "text": [
      "C:\\Users\\mhmds\\AppData\\Local\\Temp\\ipykernel_6512\\2601817751.py:2: SettingWithCopyWarning: \n",
      "A value is trying to be set on a copy of a slice from a DataFrame.\n",
      "Try using .loc[row_indexer,col_indexer] = value instead\n",
      "\n",
      "See the caveats in the documentation: https://pandas.pydata.org/pandas-docs/stable/user_guide/indexing.html#returning-a-view-versus-a-copy\n",
      "  df_cleaned['month'] = pd.to_datetime(df_cleaned['month'], format='%m').dt.month_name()\n"
     ]
    }
   ],
   "source": [
    "# convert the month number into names\n",
    "df_cleaned['month'] = pd.to_datetime(df_cleaned['month'], format='%m').dt.month_name()"
   ]
  },
  {
   "cell_type": "code",
   "execution_count": 17,
   "id": "d3a00826",
   "metadata": {},
   "outputs": [
    {
     "name": "stderr",
     "output_type": "stream",
     "text": [
      "C:\\Users\\mhmds\\AppData\\Local\\Temp\\ipykernel_6512\\1392008839.py:2: SettingWithCopyWarning: \n",
      "A value is trying to be set on a copy of a slice from a DataFrame.\n",
      "Try using .loc[row_indexer,col_indexer] = value instead\n",
      "\n",
      "See the caveats in the documentation: https://pandas.pydata.org/pandas-docs/stable/user_guide/indexing.html#returning-a-view-versus-a-copy\n",
      "  df_cleaned['day_of_week'] = df_cleaned['started_at'].dt.day_name()\n"
     ]
    }
   ],
   "source": [
    "# convert the day number into names\n",
    "df_cleaned['day_of_week'] = df_cleaned['started_at'].dt.day_name()"
   ]
  },
  {
   "cell_type": "code",
   "execution_count": 18,
   "id": "93e40cdc",
   "metadata": {},
   "outputs": [
    {
     "name": "stderr",
     "output_type": "stream",
     "text": [
      "C:\\Users\\mhmds\\AppData\\Local\\Temp\\ipykernel_6512\\2632017483.py:2: SettingWithCopyWarning: \n",
      "A value is trying to be set on a copy of a slice from a DataFrame.\n",
      "Try using .loc[row_indexer,col_indexer] = value instead\n",
      "\n",
      "See the caveats in the documentation: https://pandas.pydata.org/pandas-docs/stable/user_guide/indexing.html#returning-a-view-versus-a-copy\n",
      "  df_cleaned['time'] = df_cleaned['started_at'].dt.strftime('%H:%M')\n"
     ]
    }
   ],
   "source": [
    "#column for time the trip started\n",
    "df_cleaned['time'] = df_cleaned['started_at'].dt.strftime('%H:%M')"
   ]
  },
  {
   "cell_type": "code",
   "execution_count": 19,
   "id": "dd6f4be4",
   "metadata": {},
   "outputs": [
    {
     "name": "stderr",
     "output_type": "stream",
     "text": [
      "C:\\Users\\mhmds\\AppData\\Local\\Temp\\ipykernel_6512\\4223440839.py:2: SettingWithCopyWarning: \n",
      "A value is trying to be set on a copy of a slice from a DataFrame.\n",
      "Try using .loc[row_indexer,col_indexer] = value instead\n",
      "\n",
      "See the caveats in the documentation: https://pandas.pydata.org/pandas-docs/stable/user_guide/indexing.html#returning-a-view-versus-a-copy\n",
      "  df_cleaned['trip_duration_in_min'] = (df_cleaned['ended_at'] - df_cleaned['started_at']).dt.total_seconds().div(60).astype(float)\n"
     ]
    }
   ],
   "source": [
    "#column for trip duration in min\n",
    "df_cleaned['trip_duration_in_min'] = (df_cleaned['ended_at'] - df_cleaned['started_at']).dt.total_seconds().div(60).astype(float)"
   ]
  },
  {
   "cell_type": "code",
   "execution_count": 20,
   "id": "e320a299",
   "metadata": {},
   "outputs": [
    {
     "data": {
      "text/html": [
       "<div>\n",
       "<style scoped>\n",
       "    .dataframe tbody tr th:only-of-type {\n",
       "        vertical-align: middle;\n",
       "    }\n",
       "\n",
       "    .dataframe tbody tr th {\n",
       "        vertical-align: top;\n",
       "    }\n",
       "\n",
       "    .dataframe thead th {\n",
       "        text-align: right;\n",
       "    }\n",
       "</style>\n",
       "<table border=\"1\" class=\"dataframe\">\n",
       "  <thead>\n",
       "    <tr style=\"text-align: right;\">\n",
       "      <th></th>\n",
       "      <th>ride_id</th>\n",
       "      <th>rideable_type</th>\n",
       "      <th>started_at</th>\n",
       "      <th>ended_at</th>\n",
       "      <th>start_station_name</th>\n",
       "      <th>start_station_id</th>\n",
       "      <th>end_station_name</th>\n",
       "      <th>end_station_id</th>\n",
       "      <th>start_lat</th>\n",
       "      <th>start_lng</th>\n",
       "      <th>end_lat</th>\n",
       "      <th>end_lng</th>\n",
       "      <th>member_casual</th>\n",
       "      <th>date_of_the_ride</th>\n",
       "      <th>quarter</th>\n",
       "      <th>month</th>\n",
       "      <th>hour</th>\n",
       "      <th>day_of_week</th>\n",
       "      <th>time</th>\n",
       "      <th>trip_duration_in_min</th>\n",
       "    </tr>\n",
       "  </thead>\n",
       "  <tbody>\n",
       "    <tr>\n",
       "      <th>0</th>\n",
       "      <td>C1D650626C8C899A</td>\n",
       "      <td>electric_bike</td>\n",
       "      <td>2024-01-12 15:30:27</td>\n",
       "      <td>2024-01-12 15:37:59</td>\n",
       "      <td>Wells St &amp; Elm St</td>\n",
       "      <td>KA1504000135</td>\n",
       "      <td>Kingsbury St &amp; Kinzie St</td>\n",
       "      <td>KA1503000043</td>\n",
       "      <td>41.903267</td>\n",
       "      <td>-87.634737</td>\n",
       "      <td>41.889177</td>\n",
       "      <td>-87.638506</td>\n",
       "      <td>member</td>\n",
       "      <td>2024-01-12</td>\n",
       "      <td>1</td>\n",
       "      <td>January</td>\n",
       "      <td>15</td>\n",
       "      <td>Friday</td>\n",
       "      <td>15:30</td>\n",
       "      <td>7.533333</td>\n",
       "    </tr>\n",
       "    <tr>\n",
       "      <th>1</th>\n",
       "      <td>EECD38BDB25BFCB0</td>\n",
       "      <td>electric_bike</td>\n",
       "      <td>2024-01-08 15:45:46</td>\n",
       "      <td>2024-01-08 15:52:59</td>\n",
       "      <td>Wells St &amp; Elm St</td>\n",
       "      <td>KA1504000135</td>\n",
       "      <td>Kingsbury St &amp; Kinzie St</td>\n",
       "      <td>KA1503000043</td>\n",
       "      <td>41.902937</td>\n",
       "      <td>-87.634440</td>\n",
       "      <td>41.889177</td>\n",
       "      <td>-87.638506</td>\n",
       "      <td>member</td>\n",
       "      <td>2024-01-08</td>\n",
       "      <td>1</td>\n",
       "      <td>January</td>\n",
       "      <td>15</td>\n",
       "      <td>Monday</td>\n",
       "      <td>15:45</td>\n",
       "      <td>7.216667</td>\n",
       "    </tr>\n",
       "    <tr>\n",
       "      <th>2</th>\n",
       "      <td>F4A9CE78061F17F7</td>\n",
       "      <td>electric_bike</td>\n",
       "      <td>2024-01-27 12:27:19</td>\n",
       "      <td>2024-01-27 12:35:19</td>\n",
       "      <td>Wells St &amp; Elm St</td>\n",
       "      <td>KA1504000135</td>\n",
       "      <td>Kingsbury St &amp; Kinzie St</td>\n",
       "      <td>KA1503000043</td>\n",
       "      <td>41.902951</td>\n",
       "      <td>-87.634470</td>\n",
       "      <td>41.889177</td>\n",
       "      <td>-87.638506</td>\n",
       "      <td>member</td>\n",
       "      <td>2024-01-27</td>\n",
       "      <td>1</td>\n",
       "      <td>January</td>\n",
       "      <td>12</td>\n",
       "      <td>Saturday</td>\n",
       "      <td>12:27</td>\n",
       "      <td>8.000000</td>\n",
       "    </tr>\n",
       "    <tr>\n",
       "      <th>3</th>\n",
       "      <td>0A0D9E15EE50B171</td>\n",
       "      <td>classic_bike</td>\n",
       "      <td>2024-01-29 16:26:17</td>\n",
       "      <td>2024-01-29 16:56:06</td>\n",
       "      <td>Wells St &amp; Randolph St</td>\n",
       "      <td>TA1305000030</td>\n",
       "      <td>Larrabee St &amp; Webster Ave</td>\n",
       "      <td>13193</td>\n",
       "      <td>41.884295</td>\n",
       "      <td>-87.633963</td>\n",
       "      <td>41.921822</td>\n",
       "      <td>-87.644140</td>\n",
       "      <td>member</td>\n",
       "      <td>2024-01-29</td>\n",
       "      <td>1</td>\n",
       "      <td>January</td>\n",
       "      <td>16</td>\n",
       "      <td>Monday</td>\n",
       "      <td>16:26</td>\n",
       "      <td>29.816667</td>\n",
       "    </tr>\n",
       "    <tr>\n",
       "      <th>4</th>\n",
       "      <td>33FFC9805E3EFF9A</td>\n",
       "      <td>classic_bike</td>\n",
       "      <td>2024-01-31 05:43:23</td>\n",
       "      <td>2024-01-31 06:09:35</td>\n",
       "      <td>Lincoln Ave &amp; Waveland Ave</td>\n",
       "      <td>13253</td>\n",
       "      <td>Kingsbury St &amp; Kinzie St</td>\n",
       "      <td>KA1503000043</td>\n",
       "      <td>41.948797</td>\n",
       "      <td>-87.675278</td>\n",
       "      <td>41.889177</td>\n",
       "      <td>-87.638506</td>\n",
       "      <td>member</td>\n",
       "      <td>2024-01-31</td>\n",
       "      <td>1</td>\n",
       "      <td>January</td>\n",
       "      <td>5</td>\n",
       "      <td>Wednesday</td>\n",
       "      <td>05:43</td>\n",
       "      <td>26.200000</td>\n",
       "    </tr>\n",
       "  </tbody>\n",
       "</table>\n",
       "</div>"
      ],
      "text/plain": [
       "            ride_id  rideable_type          started_at            ended_at  \\\n",
       "0  C1D650626C8C899A  electric_bike 2024-01-12 15:30:27 2024-01-12 15:37:59   \n",
       "1  EECD38BDB25BFCB0  electric_bike 2024-01-08 15:45:46 2024-01-08 15:52:59   \n",
       "2  F4A9CE78061F17F7  electric_bike 2024-01-27 12:27:19 2024-01-27 12:35:19   \n",
       "3  0A0D9E15EE50B171   classic_bike 2024-01-29 16:26:17 2024-01-29 16:56:06   \n",
       "4  33FFC9805E3EFF9A   classic_bike 2024-01-31 05:43:23 2024-01-31 06:09:35   \n",
       "\n",
       "           start_station_name start_station_id           end_station_name  \\\n",
       "0           Wells St & Elm St     KA1504000135   Kingsbury St & Kinzie St   \n",
       "1           Wells St & Elm St     KA1504000135   Kingsbury St & Kinzie St   \n",
       "2           Wells St & Elm St     KA1504000135   Kingsbury St & Kinzie St   \n",
       "3      Wells St & Randolph St     TA1305000030  Larrabee St & Webster Ave   \n",
       "4  Lincoln Ave & Waveland Ave            13253   Kingsbury St & Kinzie St   \n",
       "\n",
       "  end_station_id  start_lat  start_lng    end_lat    end_lng member_casual  \\\n",
       "0   KA1503000043  41.903267 -87.634737  41.889177 -87.638506        member   \n",
       "1   KA1503000043  41.902937 -87.634440  41.889177 -87.638506        member   \n",
       "2   KA1503000043  41.902951 -87.634470  41.889177 -87.638506        member   \n",
       "3          13193  41.884295 -87.633963  41.921822 -87.644140        member   \n",
       "4   KA1503000043  41.948797 -87.675278  41.889177 -87.638506        member   \n",
       "\n",
       "  date_of_the_ride  quarter    month  hour day_of_week   time  \\\n",
       "0       2024-01-12        1  January    15      Friday  15:30   \n",
       "1       2024-01-08        1  January    15      Monday  15:45   \n",
       "2       2024-01-27        1  January    12    Saturday  12:27   \n",
       "3       2024-01-29        1  January    16      Monday  16:26   \n",
       "4       2024-01-31        1  January     5   Wednesday  05:43   \n",
       "\n",
       "   trip_duration_in_min  \n",
       "0              7.533333  \n",
       "1              7.216667  \n",
       "2              8.000000  \n",
       "3             29.816667  \n",
       "4             26.200000  "
      ]
     },
     "execution_count": 20,
     "metadata": {},
     "output_type": "execute_result"
    }
   ],
   "source": [
    "df_cleaned.head(5)"
   ]
  },
  {
   "cell_type": "code",
   "execution_count": 21,
   "id": "9aff74ec",
   "metadata": {},
   "outputs": [
    {
     "data": {
      "text/plain": [
       "4208309"
      ]
     },
     "execution_count": 21,
     "metadata": {},
     "output_type": "execute_result"
    }
   ],
   "source": [
    "len(df_cleaned)"
   ]
  },
  {
   "cell_type": "code",
   "execution_count": 22,
   "id": "9122a582",
   "metadata": {},
   "outputs": [],
   "source": [
    "# Remove the rows with trip_duration that smaller than 0\n",
    "df_cleaned = df_cleaned[df_cleaned['trip_duration_in_min'] >= 0]"
   ]
  },
  {
   "cell_type": "code",
   "execution_count": 23,
   "id": "8471bef8",
   "metadata": {},
   "outputs": [
    {
     "data": {
      "text/plain": [
       "4208269"
      ]
     },
     "execution_count": 23,
     "metadata": {},
     "output_type": "execute_result"
    }
   ],
   "source": [
    "len(df_cleaned)"
   ]
  },
  {
   "cell_type": "code",
   "execution_count": 24,
   "id": "6b9a9f10",
   "metadata": {},
   "outputs": [
    {
     "data": {
      "text/plain": [
       "ride_id                         object\n",
       "rideable_type                   object\n",
       "started_at              datetime64[ns]\n",
       "ended_at                datetime64[ns]\n",
       "start_station_name              object\n",
       "start_station_id                object\n",
       "end_station_name                object\n",
       "end_station_id                  object\n",
       "start_lat                      float64\n",
       "start_lng                      float64\n",
       "end_lat                        float64\n",
       "end_lng                        float64\n",
       "member_casual                   object\n",
       "date_of_the_ride                object\n",
       "quarter                          int64\n",
       "month                           object\n",
       "hour                             int64\n",
       "day_of_week                     object\n",
       "time                            object\n",
       "trip_duration_in_min           float64\n",
       "dtype: object"
      ]
     },
     "execution_count": 24,
     "metadata": {},
     "output_type": "execute_result"
    }
   ],
   "source": [
    "df_cleaned.dtypes"
   ]
  },
  {
   "cell_type": "code",
   "execution_count": 25,
   "id": "cc65ec7c",
   "metadata": {},
   "outputs": [],
   "source": [
    "#dropping rows containing Tests in 'start_station_name' column\n",
    "\n",
    "index_num = df_cleaned[df_cleaned['start_station_name'].str.contains(\"TEST\" or \"test\" or \"Test\")==True].index\n",
    "all_trips = df_cleaned.drop(index_num)"
   ]
  },
  {
   "cell_type": "code",
   "execution_count": 26,
   "id": "e7032ed9",
   "metadata": {},
   "outputs": [
    {
     "data": {
      "text/plain": [
       "4208269"
      ]
     },
     "execution_count": 26,
     "metadata": {},
     "output_type": "execute_result"
    }
   ],
   "source": [
    "len(all_trips)"
   ]
  },
  {
   "cell_type": "markdown",
   "id": "dc29426e",
   "metadata": {},
   "source": [
    "It is important to make sure that customer_type column has only two distinct values. Let's confirm the same."
   ]
  },
  {
   "cell_type": "code",
   "execution_count": 27,
   "id": "8d5a4a01",
   "metadata": {},
   "outputs": [
    {
     "data": {
      "text/html": [
       "<div>\n",
       "<style scoped>\n",
       "    .dataframe tbody tr th:only-of-type {\n",
       "        vertical-align: middle;\n",
       "    }\n",
       "\n",
       "    .dataframe tbody tr th {\n",
       "        vertical-align: top;\n",
       "    }\n",
       "\n",
       "    .dataframe thead th {\n",
       "        text-align: right;\n",
       "    }\n",
       "</style>\n",
       "<table border=\"1\" class=\"dataframe\">\n",
       "  <thead>\n",
       "    <tr style=\"text-align: right;\">\n",
       "      <th></th>\n",
       "      <th>member_casual</th>\n",
       "    </tr>\n",
       "  </thead>\n",
       "  <tbody>\n",
       "    <tr>\n",
       "      <th>member</th>\n",
       "      <td>2686670</td>\n",
       "    </tr>\n",
       "    <tr>\n",
       "      <th>casual</th>\n",
       "      <td>1521599</td>\n",
       "    </tr>\n",
       "  </tbody>\n",
       "</table>\n",
       "</div>"
      ],
      "text/plain": [
       "        member_casual\n",
       "member        2686670\n",
       "casual        1521599"
      ]
     },
     "execution_count": 27,
     "metadata": {},
     "output_type": "execute_result"
    }
   ],
   "source": [
    "pd.DataFrame(all_trips['member_casual'].value_counts()).rename(columns={'customer_type':'No. of Customers'})"
   ]
  },
  {
   "cell_type": "code",
   "execution_count": 28,
   "id": "1f21bae8",
   "metadata": {},
   "outputs": [],
   "source": [
    "all_trips.drop(['start_station_id','end_station_id','ride_id'],axis=1,inplace=True)"
   ]
  },
  {
   "cell_type": "code",
   "execution_count": 29,
   "id": "89755caa",
   "metadata": {
    "scrolled": true
   },
   "outputs": [
    {
     "data": {
      "text/html": [
       "<div>\n",
       "<style scoped>\n",
       "    .dataframe tbody tr th:only-of-type {\n",
       "        vertical-align: middle;\n",
       "    }\n",
       "\n",
       "    .dataframe tbody tr th {\n",
       "        vertical-align: top;\n",
       "    }\n",
       "\n",
       "    .dataframe thead th {\n",
       "        text-align: right;\n",
       "    }\n",
       "</style>\n",
       "<table border=\"1\" class=\"dataframe\">\n",
       "  <thead>\n",
       "    <tr style=\"text-align: right;\">\n",
       "      <th></th>\n",
       "      <th>rideable_type</th>\n",
       "      <th>started_at</th>\n",
       "      <th>ended_at</th>\n",
       "      <th>start_station_name</th>\n",
       "      <th>end_station_name</th>\n",
       "      <th>start_lat</th>\n",
       "      <th>start_lng</th>\n",
       "      <th>end_lat</th>\n",
       "      <th>end_lng</th>\n",
       "      <th>member_casual</th>\n",
       "      <th>date_of_the_ride</th>\n",
       "      <th>quarter</th>\n",
       "      <th>month</th>\n",
       "      <th>hour</th>\n",
       "      <th>day_of_week</th>\n",
       "      <th>time</th>\n",
       "      <th>trip_duration_in_min</th>\n",
       "    </tr>\n",
       "  </thead>\n",
       "  <tbody>\n",
       "    <tr>\n",
       "      <th>0</th>\n",
       "      <td>electric_bike</td>\n",
       "      <td>2024-01-12 15:30:27</td>\n",
       "      <td>2024-01-12 15:37:59</td>\n",
       "      <td>Wells St &amp; Elm St</td>\n",
       "      <td>Kingsbury St &amp; Kinzie St</td>\n",
       "      <td>41.903267</td>\n",
       "      <td>-87.634737</td>\n",
       "      <td>41.889177</td>\n",
       "      <td>-87.638506</td>\n",
       "      <td>member</td>\n",
       "      <td>2024-01-12</td>\n",
       "      <td>1</td>\n",
       "      <td>January</td>\n",
       "      <td>15</td>\n",
       "      <td>Friday</td>\n",
       "      <td>15:30</td>\n",
       "      <td>7.533333</td>\n",
       "    </tr>\n",
       "    <tr>\n",
       "      <th>1</th>\n",
       "      <td>electric_bike</td>\n",
       "      <td>2024-01-08 15:45:46</td>\n",
       "      <td>2024-01-08 15:52:59</td>\n",
       "      <td>Wells St &amp; Elm St</td>\n",
       "      <td>Kingsbury St &amp; Kinzie St</td>\n",
       "      <td>41.902937</td>\n",
       "      <td>-87.634440</td>\n",
       "      <td>41.889177</td>\n",
       "      <td>-87.638506</td>\n",
       "      <td>member</td>\n",
       "      <td>2024-01-08</td>\n",
       "      <td>1</td>\n",
       "      <td>January</td>\n",
       "      <td>15</td>\n",
       "      <td>Monday</td>\n",
       "      <td>15:45</td>\n",
       "      <td>7.216667</td>\n",
       "    </tr>\n",
       "    <tr>\n",
       "      <th>2</th>\n",
       "      <td>electric_bike</td>\n",
       "      <td>2024-01-27 12:27:19</td>\n",
       "      <td>2024-01-27 12:35:19</td>\n",
       "      <td>Wells St &amp; Elm St</td>\n",
       "      <td>Kingsbury St &amp; Kinzie St</td>\n",
       "      <td>41.902951</td>\n",
       "      <td>-87.634470</td>\n",
       "      <td>41.889177</td>\n",
       "      <td>-87.638506</td>\n",
       "      <td>member</td>\n",
       "      <td>2024-01-27</td>\n",
       "      <td>1</td>\n",
       "      <td>January</td>\n",
       "      <td>12</td>\n",
       "      <td>Saturday</td>\n",
       "      <td>12:27</td>\n",
       "      <td>8.000000</td>\n",
       "    </tr>\n",
       "    <tr>\n",
       "      <th>3</th>\n",
       "      <td>classic_bike</td>\n",
       "      <td>2024-01-29 16:26:17</td>\n",
       "      <td>2024-01-29 16:56:06</td>\n",
       "      <td>Wells St &amp; Randolph St</td>\n",
       "      <td>Larrabee St &amp; Webster Ave</td>\n",
       "      <td>41.884295</td>\n",
       "      <td>-87.633963</td>\n",
       "      <td>41.921822</td>\n",
       "      <td>-87.644140</td>\n",
       "      <td>member</td>\n",
       "      <td>2024-01-29</td>\n",
       "      <td>1</td>\n",
       "      <td>January</td>\n",
       "      <td>16</td>\n",
       "      <td>Monday</td>\n",
       "      <td>16:26</td>\n",
       "      <td>29.816667</td>\n",
       "    </tr>\n",
       "    <tr>\n",
       "      <th>4</th>\n",
       "      <td>classic_bike</td>\n",
       "      <td>2024-01-31 05:43:23</td>\n",
       "      <td>2024-01-31 06:09:35</td>\n",
       "      <td>Lincoln Ave &amp; Waveland Ave</td>\n",
       "      <td>Kingsbury St &amp; Kinzie St</td>\n",
       "      <td>41.948797</td>\n",
       "      <td>-87.675278</td>\n",
       "      <td>41.889177</td>\n",
       "      <td>-87.638506</td>\n",
       "      <td>member</td>\n",
       "      <td>2024-01-31</td>\n",
       "      <td>1</td>\n",
       "      <td>January</td>\n",
       "      <td>5</td>\n",
       "      <td>Wednesday</td>\n",
       "      <td>05:43</td>\n",
       "      <td>26.200000</td>\n",
       "    </tr>\n",
       "  </tbody>\n",
       "</table>\n",
       "</div>"
      ],
      "text/plain": [
       "   rideable_type          started_at            ended_at  \\\n",
       "0  electric_bike 2024-01-12 15:30:27 2024-01-12 15:37:59   \n",
       "1  electric_bike 2024-01-08 15:45:46 2024-01-08 15:52:59   \n",
       "2  electric_bike 2024-01-27 12:27:19 2024-01-27 12:35:19   \n",
       "3   classic_bike 2024-01-29 16:26:17 2024-01-29 16:56:06   \n",
       "4   classic_bike 2024-01-31 05:43:23 2024-01-31 06:09:35   \n",
       "\n",
       "           start_station_name           end_station_name  start_lat  \\\n",
       "0           Wells St & Elm St   Kingsbury St & Kinzie St  41.903267   \n",
       "1           Wells St & Elm St   Kingsbury St & Kinzie St  41.902937   \n",
       "2           Wells St & Elm St   Kingsbury St & Kinzie St  41.902951   \n",
       "3      Wells St & Randolph St  Larrabee St & Webster Ave  41.884295   \n",
       "4  Lincoln Ave & Waveland Ave   Kingsbury St & Kinzie St  41.948797   \n",
       "\n",
       "   start_lng    end_lat    end_lng member_casual date_of_the_ride  quarter  \\\n",
       "0 -87.634737  41.889177 -87.638506        member       2024-01-12        1   \n",
       "1 -87.634440  41.889177 -87.638506        member       2024-01-08        1   \n",
       "2 -87.634470  41.889177 -87.638506        member       2024-01-27        1   \n",
       "3 -87.633963  41.921822 -87.644140        member       2024-01-29        1   \n",
       "4 -87.675278  41.889177 -87.638506        member       2024-01-31        1   \n",
       "\n",
       "     month  hour day_of_week   time  trip_duration_in_min  \n",
       "0  January    15      Friday  15:30              7.533333  \n",
       "1  January    15      Monday  15:45              7.216667  \n",
       "2  January    12    Saturday  12:27              8.000000  \n",
       "3  January    16      Monday  16:26             29.816667  \n",
       "4  January     5   Wednesday  05:43             26.200000  "
      ]
     },
     "execution_count": 29,
     "metadata": {},
     "output_type": "execute_result"
    }
   ],
   "source": [
    "all_trips.head()"
   ]
  },
  {
   "cell_type": "markdown",
   "id": "8eb81bae",
   "metadata": {},
   "source": [
    "Rename some columns to be more readable"
   ]
  },
  {
   "cell_type": "code",
   "execution_count": 30,
   "id": "7173e6ff",
   "metadata": {},
   "outputs": [],
   "source": [
    "all_trips.rename(columns={'rideable_type':'bike_type','started_at':'start_time','ended_at':'end_time','member_casual':'membership'}, inplace=True)"
   ]
  },
  {
   "cell_type": "code",
   "execution_count": 32,
   "id": "2760c64b",
   "metadata": {},
   "outputs": [
    {
     "data": {
      "text/html": [
       "<div>\n",
       "<style scoped>\n",
       "    .dataframe tbody tr th:only-of-type {\n",
       "        vertical-align: middle;\n",
       "    }\n",
       "\n",
       "    .dataframe tbody tr th {\n",
       "        vertical-align: top;\n",
       "    }\n",
       "\n",
       "    .dataframe thead th {\n",
       "        text-align: right;\n",
       "    }\n",
       "</style>\n",
       "<table border=\"1\" class=\"dataframe\">\n",
       "  <thead>\n",
       "    <tr style=\"text-align: right;\">\n",
       "      <th></th>\n",
       "      <th>bike_type</th>\n",
       "      <th>start_time</th>\n",
       "      <th>end_time</th>\n",
       "      <th>start_station_name</th>\n",
       "      <th>end_station_name</th>\n",
       "      <th>start_lat</th>\n",
       "      <th>start_lng</th>\n",
       "      <th>end_lat</th>\n",
       "      <th>end_lng</th>\n",
       "      <th>membership</th>\n",
       "      <th>date_of_the_ride</th>\n",
       "      <th>quarter</th>\n",
       "      <th>month</th>\n",
       "      <th>hour</th>\n",
       "      <th>day_of_week</th>\n",
       "      <th>time</th>\n",
       "      <th>trip_duration_in_min</th>\n",
       "    </tr>\n",
       "  </thead>\n",
       "  <tbody>\n",
       "    <tr>\n",
       "      <th>0</th>\n",
       "      <td>electric_bike</td>\n",
       "      <td>2024-01-12 15:30:27</td>\n",
       "      <td>2024-01-12 15:37:59</td>\n",
       "      <td>Wells St &amp; Elm St</td>\n",
       "      <td>Kingsbury St &amp; Kinzie St</td>\n",
       "      <td>41.903267</td>\n",
       "      <td>-87.634737</td>\n",
       "      <td>41.889177</td>\n",
       "      <td>-87.638506</td>\n",
       "      <td>member</td>\n",
       "      <td>2024-01-12</td>\n",
       "      <td>1</td>\n",
       "      <td>January</td>\n",
       "      <td>15</td>\n",
       "      <td>Friday</td>\n",
       "      <td>15:30</td>\n",
       "      <td>7.533333</td>\n",
       "    </tr>\n",
       "    <tr>\n",
       "      <th>1</th>\n",
       "      <td>electric_bike</td>\n",
       "      <td>2024-01-08 15:45:46</td>\n",
       "      <td>2024-01-08 15:52:59</td>\n",
       "      <td>Wells St &amp; Elm St</td>\n",
       "      <td>Kingsbury St &amp; Kinzie St</td>\n",
       "      <td>41.902937</td>\n",
       "      <td>-87.634440</td>\n",
       "      <td>41.889177</td>\n",
       "      <td>-87.638506</td>\n",
       "      <td>member</td>\n",
       "      <td>2024-01-08</td>\n",
       "      <td>1</td>\n",
       "      <td>January</td>\n",
       "      <td>15</td>\n",
       "      <td>Monday</td>\n",
       "      <td>15:45</td>\n",
       "      <td>7.216667</td>\n",
       "    </tr>\n",
       "    <tr>\n",
       "      <th>2</th>\n",
       "      <td>electric_bike</td>\n",
       "      <td>2024-01-27 12:27:19</td>\n",
       "      <td>2024-01-27 12:35:19</td>\n",
       "      <td>Wells St &amp; Elm St</td>\n",
       "      <td>Kingsbury St &amp; Kinzie St</td>\n",
       "      <td>41.902951</td>\n",
       "      <td>-87.634470</td>\n",
       "      <td>41.889177</td>\n",
       "      <td>-87.638506</td>\n",
       "      <td>member</td>\n",
       "      <td>2024-01-27</td>\n",
       "      <td>1</td>\n",
       "      <td>January</td>\n",
       "      <td>12</td>\n",
       "      <td>Saturday</td>\n",
       "      <td>12:27</td>\n",
       "      <td>8.000000</td>\n",
       "    </tr>\n",
       "    <tr>\n",
       "      <th>3</th>\n",
       "      <td>classic_bike</td>\n",
       "      <td>2024-01-29 16:26:17</td>\n",
       "      <td>2024-01-29 16:56:06</td>\n",
       "      <td>Wells St &amp; Randolph St</td>\n",
       "      <td>Larrabee St &amp; Webster Ave</td>\n",
       "      <td>41.884295</td>\n",
       "      <td>-87.633963</td>\n",
       "      <td>41.921822</td>\n",
       "      <td>-87.644140</td>\n",
       "      <td>member</td>\n",
       "      <td>2024-01-29</td>\n",
       "      <td>1</td>\n",
       "      <td>January</td>\n",
       "      <td>16</td>\n",
       "      <td>Monday</td>\n",
       "      <td>16:26</td>\n",
       "      <td>29.816667</td>\n",
       "    </tr>\n",
       "    <tr>\n",
       "      <th>4</th>\n",
       "      <td>classic_bike</td>\n",
       "      <td>2024-01-31 05:43:23</td>\n",
       "      <td>2024-01-31 06:09:35</td>\n",
       "      <td>Lincoln Ave &amp; Waveland Ave</td>\n",
       "      <td>Kingsbury St &amp; Kinzie St</td>\n",
       "      <td>41.948797</td>\n",
       "      <td>-87.675278</td>\n",
       "      <td>41.889177</td>\n",
       "      <td>-87.638506</td>\n",
       "      <td>member</td>\n",
       "      <td>2024-01-31</td>\n",
       "      <td>1</td>\n",
       "      <td>January</td>\n",
       "      <td>5</td>\n",
       "      <td>Wednesday</td>\n",
       "      <td>05:43</td>\n",
       "      <td>26.200000</td>\n",
       "    </tr>\n",
       "  </tbody>\n",
       "</table>\n",
       "</div>"
      ],
      "text/plain": [
       "       bike_type          start_time            end_time  \\\n",
       "0  electric_bike 2024-01-12 15:30:27 2024-01-12 15:37:59   \n",
       "1  electric_bike 2024-01-08 15:45:46 2024-01-08 15:52:59   \n",
       "2  electric_bike 2024-01-27 12:27:19 2024-01-27 12:35:19   \n",
       "3   classic_bike 2024-01-29 16:26:17 2024-01-29 16:56:06   \n",
       "4   classic_bike 2024-01-31 05:43:23 2024-01-31 06:09:35   \n",
       "\n",
       "           start_station_name           end_station_name  start_lat  \\\n",
       "0           Wells St & Elm St   Kingsbury St & Kinzie St  41.903267   \n",
       "1           Wells St & Elm St   Kingsbury St & Kinzie St  41.902937   \n",
       "2           Wells St & Elm St   Kingsbury St & Kinzie St  41.902951   \n",
       "3      Wells St & Randolph St  Larrabee St & Webster Ave  41.884295   \n",
       "4  Lincoln Ave & Waveland Ave   Kingsbury St & Kinzie St  41.948797   \n",
       "\n",
       "   start_lng    end_lat    end_lng membership date_of_the_ride  quarter  \\\n",
       "0 -87.634737  41.889177 -87.638506     member       2024-01-12        1   \n",
       "1 -87.634440  41.889177 -87.638506     member       2024-01-08        1   \n",
       "2 -87.634470  41.889177 -87.638506     member       2024-01-27        1   \n",
       "3 -87.633963  41.921822 -87.644140     member       2024-01-29        1   \n",
       "4 -87.675278  41.889177 -87.638506     member       2024-01-31        1   \n",
       "\n",
       "     month  hour day_of_week   time  trip_duration_in_min  \n",
       "0  January    15      Friday  15:30              7.533333  \n",
       "1  January    15      Monday  15:45              7.216667  \n",
       "2  January    12    Saturday  12:27              8.000000  \n",
       "3  January    16      Monday  16:26             29.816667  \n",
       "4  January     5   Wednesday  05:43             26.200000  "
      ]
     },
     "execution_count": 32,
     "metadata": {},
     "output_type": "execute_result"
    }
   ],
   "source": [
    "all_trips.head()"
   ]
  },
  {
   "cell_type": "markdown",
   "id": "d321c18d",
   "metadata": {},
   "source": [
    "Creating a csv file of the clean data for futher analysis or visualizations in other tools like SQL, Tableau, Power BI, etc."
   ]
  },
  {
   "cell_type": "code",
   "execution_count": 33,
   "id": "ff237217",
   "metadata": {},
   "outputs": [],
   "source": [
    "all_trips.to_csv('all_trips.csv',index=False,header=True)"
   ]
  },
  {
   "cell_type": "markdown",
   "id": "d4dd6485",
   "metadata": {},
   "source": [
    "## Analyze\n",
    "The dataframe is now ready for descriptive analysis that will help us uncover some insights on how the casual riders and members use Cyclistic rideshare differently"
   ]
  },
  {
   "cell_type": "code",
   "execution_count": 34,
   "id": "4d9381ea",
   "metadata": {},
   "outputs": [],
   "source": [
    "all_trips= pd.read_csv('all_trips.csv')"
   ]
  },
  {
   "cell_type": "code",
   "execution_count": 35,
   "id": "155ae5e0",
   "metadata": {},
   "outputs": [
    {
     "data": {
      "text/html": [
       "<div>\n",
       "<style scoped>\n",
       "    .dataframe tbody tr th:only-of-type {\n",
       "        vertical-align: middle;\n",
       "    }\n",
       "\n",
       "    .dataframe tbody tr th {\n",
       "        vertical-align: top;\n",
       "    }\n",
       "\n",
       "    .dataframe thead th {\n",
       "        text-align: right;\n",
       "    }\n",
       "</style>\n",
       "<table border=\"1\" class=\"dataframe\">\n",
       "  <thead>\n",
       "    <tr style=\"text-align: right;\">\n",
       "      <th></th>\n",
       "      <th>trip_duration_in_min</th>\n",
       "    </tr>\n",
       "  </thead>\n",
       "  <tbody>\n",
       "    <tr>\n",
       "      <th>count</th>\n",
       "      <td>4208269.000000</td>\n",
       "    </tr>\n",
       "    <tr>\n",
       "      <th>mean</th>\n",
       "      <td>16.658496</td>\n",
       "    </tr>\n",
       "    <tr>\n",
       "      <th>std</th>\n",
       "      <td>35.564439</td>\n",
       "    </tr>\n",
       "    <tr>\n",
       "      <th>min</th>\n",
       "      <td>0.000000</td>\n",
       "    </tr>\n",
       "    <tr>\n",
       "      <th>25%</th>\n",
       "      <td>5.833333</td>\n",
       "    </tr>\n",
       "    <tr>\n",
       "      <th>50%</th>\n",
       "      <td>10.135400</td>\n",
       "    </tr>\n",
       "    <tr>\n",
       "      <th>75%</th>\n",
       "      <td>18.216667</td>\n",
       "    </tr>\n",
       "    <tr>\n",
       "      <th>max</th>\n",
       "      <td>1509.366667</td>\n",
       "    </tr>\n",
       "  </tbody>\n",
       "</table>\n",
       "</div>"
      ],
      "text/plain": [
       "      trip_duration_in_min\n",
       "count       4208269.000000\n",
       "mean             16.658496\n",
       "std              35.564439\n",
       "min               0.000000\n",
       "25%               5.833333\n",
       "50%              10.135400\n",
       "75%              18.216667\n",
       "max            1509.366667"
      ]
     },
     "execution_count": 35,
     "metadata": {},
     "output_type": "execute_result"
    }
   ],
   "source": [
    "#statistical summary of 'trip_duration_in_min' column\n",
    "\n",
    "pd.DataFrame(all_trips['trip_duration_in_min'].describe().apply(lambda x: format(x, 'f')))"
   ]
  },
  {
   "cell_type": "code",
   "execution_count": 37,
   "id": "c7f968e4",
   "metadata": {},
   "outputs": [
    {
     "data": {
      "text/html": [
       "<div>\n",
       "<style scoped>\n",
       "    .dataframe tbody tr th:only-of-type {\n",
       "        vertical-align: middle;\n",
       "    }\n",
       "\n",
       "    .dataframe tbody tr th {\n",
       "        vertical-align: top;\n",
       "    }\n",
       "\n",
       "    .dataframe thead th {\n",
       "        text-align: right;\n",
       "    }\n",
       "</style>\n",
       "<table border=\"1\" class=\"dataframe\">\n",
       "  <thead>\n",
       "    <tr style=\"text-align: right;\">\n",
       "      <th></th>\n",
       "      <th>Members</th>\n",
       "    </tr>\n",
       "  </thead>\n",
       "  <tbody>\n",
       "    <tr>\n",
       "      <th>count</th>\n",
       "      <td>2686670.000000</td>\n",
       "    </tr>\n",
       "    <tr>\n",
       "      <th>mean</th>\n",
       "      <td>12.471001</td>\n",
       "    </tr>\n",
       "    <tr>\n",
       "      <th>std</th>\n",
       "      <td>22.458047</td>\n",
       "    </tr>\n",
       "    <tr>\n",
       "      <th>min</th>\n",
       "      <td>0.000000</td>\n",
       "    </tr>\n",
       "    <tr>\n",
       "      <th>25%</th>\n",
       "      <td>5.216667</td>\n",
       "    </tr>\n",
       "    <tr>\n",
       "      <th>50%</th>\n",
       "      <td>8.816667</td>\n",
       "    </tr>\n",
       "    <tr>\n",
       "      <th>75%</th>\n",
       "      <td>15.016667</td>\n",
       "    </tr>\n",
       "    <tr>\n",
       "      <th>max</th>\n",
       "      <td>1497.650000</td>\n",
       "    </tr>\n",
       "  </tbody>\n",
       "</table>\n",
       "</div>"
      ],
      "text/plain": [
       "              Members\n",
       "count  2686670.000000\n",
       "mean        12.471001\n",
       "std         22.458047\n",
       "min          0.000000\n",
       "25%          5.216667\n",
       "50%          8.816667\n",
       "75%         15.016667\n",
       "max       1497.650000"
      ]
     },
     "execution_count": 37,
     "metadata": {},
     "output_type": "execute_result"
    }
   ],
   "source": [
    "#statistical summary of 'trip_duration_in_min' of Members column\n",
    "\n",
    "pd.DataFrame(all_trips.loc[all_trips['membership'] == 'member', 'trip_duration_in_min'].describe().apply(lambda x: format(x,'f'))).rename(columns={'trip_duration_in_min':'Members'})"
   ]
  },
  {
   "cell_type": "code",
   "execution_count": 38,
   "id": "5785d33a",
   "metadata": {},
   "outputs": [
    {
     "data": {
      "text/html": [
       "<div>\n",
       "<style scoped>\n",
       "    .dataframe tbody tr th:only-of-type {\n",
       "        vertical-align: middle;\n",
       "    }\n",
       "\n",
       "    .dataframe tbody tr th {\n",
       "        vertical-align: top;\n",
       "    }\n",
       "\n",
       "    .dataframe thead th {\n",
       "        text-align: right;\n",
       "    }\n",
       "</style>\n",
       "<table border=\"1\" class=\"dataframe\">\n",
       "  <thead>\n",
       "    <tr style=\"text-align: right;\">\n",
       "      <th></th>\n",
       "      <th>Casuals</th>\n",
       "    </tr>\n",
       "  </thead>\n",
       "  <tbody>\n",
       "    <tr>\n",
       "      <th>count</th>\n",
       "      <td>1521599.000000</td>\n",
       "    </tr>\n",
       "    <tr>\n",
       "      <th>mean</th>\n",
       "      <td>24.052308</td>\n",
       "    </tr>\n",
       "    <tr>\n",
       "      <th>std</th>\n",
       "      <td>50.218977</td>\n",
       "    </tr>\n",
       "    <tr>\n",
       "      <th>min</th>\n",
       "      <td>0.000000</td>\n",
       "    </tr>\n",
       "    <tr>\n",
       "      <th>25%</th>\n",
       "      <td>7.514067</td>\n",
       "    </tr>\n",
       "    <tr>\n",
       "      <th>50%</th>\n",
       "      <td>13.410667</td>\n",
       "    </tr>\n",
       "    <tr>\n",
       "      <th>75%</th>\n",
       "      <td>25.650000</td>\n",
       "    </tr>\n",
       "    <tr>\n",
       "      <th>max</th>\n",
       "      <td>1509.366667</td>\n",
       "    </tr>\n",
       "  </tbody>\n",
       "</table>\n",
       "</div>"
      ],
      "text/plain": [
       "              Casuals\n",
       "count  1521599.000000\n",
       "mean        24.052308\n",
       "std         50.218977\n",
       "min          0.000000\n",
       "25%          7.514067\n",
       "50%         13.410667\n",
       "75%         25.650000\n",
       "max       1509.366667"
      ]
     },
     "execution_count": 38,
     "metadata": {},
     "output_type": "execute_result"
    }
   ],
   "source": [
    "#statistical summary of 'trip_duration_in_min' of Casuals column\n",
    "\n",
    "pd.DataFrame(all_trips.loc[all_trips['membership'] == 'casual', 'trip_duration_in_min'].describe().apply(lambda x: format(x,'f'))).rename(columns={'trip_duration_in_min':'Casuals'})"
   ]
  },
  {
   "cell_type": "markdown",
   "id": "47e33b5f",
   "metadata": {},
   "source": [
    "The mean trip duration of member riders is lower than the mean trip duration of all trips."
   ]
  },
  {
   "cell_type": "markdown",
   "id": "92abb466",
   "metadata": {},
   "source": [
    "Number of trips by casual customers and members"
   ]
  },
  {
   "cell_type": "code",
   "execution_count": 39,
   "id": "c5db7bd3",
   "metadata": {},
   "outputs": [
    {
     "data": {
      "text/plain": [
       "member    2686670\n",
       "casual    1521599\n",
       "Name: membership, dtype: int64"
      ]
     },
     "execution_count": 39,
     "metadata": {},
     "output_type": "execute_result"
    }
   ],
   "source": [
    "all_trips['membership'].value_counts()"
   ]
  },
  {
   "cell_type": "markdown",
   "id": "0b0e3395",
   "metadata": {},
   "source": [
    "There are Members rented more bikes than Casual in 2024"
   ]
  },
  {
   "cell_type": "markdown",
   "id": "4d449951",
   "metadata": {},
   "source": [
    "Top 5 station where riders started"
   ]
  },
  {
   "cell_type": "code",
   "execution_count": 41,
   "id": "30f2534f",
   "metadata": {},
   "outputs": [
    {
     "data": {
      "text/plain": [
       "start_station_name\n",
       "Streeter Dr & Grand Ave               62124\n",
       "DuSable Lake Shore Dr & Monroe St     41425\n",
       "DuSable Lake Shore Dr & North Blvd    36611\n",
       "Michigan Ave & Oak St                 36256\n",
       "Kingsbury St & Kinzie St              35819\n",
       "Name: start_time, dtype: int64"
      ]
     },
     "execution_count": 41,
     "metadata": {},
     "output_type": "execute_result"
    }
   ],
   "source": [
    "#Top 5 stations by trip count\n",
    "all_trips.groupby('start_station_name')['start_time'].nunique().nlargest(5)"
   ]
  },
  {
   "cell_type": "markdown",
   "id": "8573865b",
   "metadata": {},
   "source": [
    "We can clearly see that Streeter Dr & Grand Ave has the greatest number of starts of 62124 in 2024."
   ]
  },
  {
   "cell_type": "markdown",
   "id": "990d73de",
   "metadata": {},
   "source": [
    "Total Number of trips per quarter"
   ]
  },
  {
   "cell_type": "code",
   "execution_count": 42,
   "id": "0ea9ad97",
   "metadata": {},
   "outputs": [],
   "source": [
    "# totlal trips per quarter"
   ]
  },
  {
   "cell_type": "code",
   "execution_count": 43,
   "id": "b860ffe2",
   "metadata": {},
   "outputs": [
    {
     "data": {
      "text/plain": [
       "3    1619261\n",
       "2    1234420\n",
       "4     825771\n",
       "1     528817\n",
       "Name: quarter, dtype: int64"
      ]
     },
     "execution_count": 43,
     "metadata": {},
     "output_type": "execute_result"
    }
   ],
   "source": [
    "all_trips['quarter'].value_counts()"
   ]
  },
  {
   "cell_type": "markdown",
   "id": "e45cf54c",
   "metadata": {},
   "source": [
    "The third quarter has the most numbers of rides"
   ]
  },
  {
   "cell_type": "markdown",
   "id": "26f2891f",
   "metadata": {},
   "source": [
    "## Share"
   ]
  },
  {
   "cell_type": "markdown",
   "id": "9a8ca58f",
   "metadata": {},
   "source": [
    "Show numbers of trips per month"
   ]
  },
  {
   "cell_type": "code",
   "execution_count": 14,
   "id": "927e6c64",
   "metadata": {},
   "outputs": [
    {
     "data": {
      "text/plain": [
       "Text(0, 0.5, 'Number of Trips')"
      ]
     },
     "execution_count": 14,
     "metadata": {},
     "output_type": "execute_result"
    },
    {
     "data": {
      "image/png": "[encoded data removed]",
      "text/plain": [
       "<Figure size 640x480 with 1 Axes>"
      ]
     },
     "metadata": {},
     "output_type": "display_data"
    }
   ],
   "source": [
    "plt.hist(all_trips['day_of_week'],edgecolor='black')\n",
    "plt.title('Number of Trips Every Day')\n",
    "plt.xlabel('Days')\n",
    "plt.ylabel('Number of Trips')"
   ]
  },
  {
   "cell_type": "code",
   "execution_count": 45,
   "id": "321c8db4",
   "metadata": {
    "scrolled": true
   },
   "outputs": [
    {
     "name": "stderr",
     "output_type": "stream",
     "text": [
      "No artists with labels found to put in legend.  Note that artists whose label start with an underscore are ignored when legend() is called with no argument.\n"
     ]
    },
    {
     "data": {
      "image/png": "[encoded data removed]",
      "text/plain": [
       "<Figure size 640x480 with 1 Axes>"
      ]
     },
     "metadata": {},
     "output_type": "display_data"
    }
   ],
   "source": [
    "plt.hist(all_trips['month'],edgecolor='black')\n",
    "plt.title('Number of Trips Every Month')\n",
    "plt.xlabel('Months')\n",
    "plt.ylabel('Number of Trips')\n",
    "plt.legend()\n",
    "plt.show()"
   ]
  },
  {
   "cell_type": "markdown",
   "id": "0a62021b",
   "metadata": {},
   "source": [
    "July, Augst and september have the most tirps in 2024"
   ]
  },
  {
   "cell_type": "code",
   "execution_count": 47,
   "id": "3a929a27",
   "metadata": {},
   "outputs": [
    {
     "name": "stderr",
     "output_type": "stream",
     "text": [
      "No artists with labels found to put in legend.  Note that artists whose label start with an underscore are ignored when legend() is called with no argument.\n"
     ]
    },
    {
     "data": {
      "image/png": "[encoded data removed]",
      "text/plain": [
       "<Figure size 640x480 with 1 Axes>"
      ]
     },
     "metadata": {},
     "output_type": "display_data"
    }
   ],
   "source": [
    "plt.hist(all_trips['membership'], edgecolor='black', alpha=0.7, color='blue')\n",
    "\n",
    "# Add titles and labels\n",
    "plt.title('Compare Between Memeberships')\n",
    "plt.xlabel('Membership')\n",
    "plt.ylabel('Number of Trips')\n",
    "plt.legend()\n",
    "plt.show()"
   ]
  },
  {
   "cell_type": "markdown",
   "id": "bc43ca3f",
   "metadata": {},
   "source": [
    "member riders is the most number of riders in 2024"
   ]
  },
  {
   "cell_type": "code",
   "execution_count": 50,
   "id": "ae909267",
   "metadata": {},
   "outputs": [],
   "source": [
    "member_trips=all_trips[all_trips['membership']=='member']\n",
    "casual_trips=all_trips[all_trips['membership']=='casual']\n"
   ]
  },
  {
   "cell_type": "code",
   "execution_count": 52,
   "id": "9c986800",
   "metadata": {},
   "outputs": [
    {
     "data": {
      "image/png": "[encoded data removed]",
      "text/plain": [
       "<Figure size 640x480 with 1 Axes>"
      ]
     },
     "metadata": {},
     "output_type": "display_data"
    }
   ],
   "source": [
    "plt.hist(member_trips['day_of_week'], bins=30, edgecolor='black', alpha=0.7, color='blue', label='member')\n",
    "plt.hist(casual_trips['day_of_week'], bins=30, edgecolor='black', alpha=0.7, color='red', label='casual')\n",
    "\n",
    "# Add titles and labels\n",
    "plt.title('Compare between Casual and Member')\n",
    "plt.xlabel('Days')\n",
    "plt.ylabel('Number of Trips')\n",
    "plt.legend()\n",
    "plt.show()"
   ]
  },
  {
   "cell_type": "markdown",
   "id": "0160a7a9",
   "metadata": {},
   "source": [
    "From this histogram we can see member riders are rides the bikes all days but the casual using bikes mostly in weekends"
   ]
  },
  {
   "cell_type": "code",
   "execution_count": 53,
   "id": "af3f4085",
   "metadata": {},
   "outputs": [
    {
     "data": {
      "image/png": "[encoded data removed]",
      "text/plain": [
       "<Figure size 640x480 with 1 Axes>"
      ]
     },
     "metadata": {},
     "output_type": "display_data"
    }
   ],
   "source": [
    "plt.hist(member_trips['bike_type'], bins=30, edgecolor='black', alpha=0.7, color='blue', label='member')\n",
    "plt.hist(casual_trips['bike_type'], bins=30, edgecolor='black', alpha=0.7, color='red', label='casual')\n",
    "\n",
    "# Add titles and labels\n",
    "plt.title('Compare between Casual and Member')\n",
    "plt.xlabel('Bike Type')\n",
    "plt.ylabel('Number of Trips')\n",
    "plt.legend()\n",
    "plt.show()"
   ]
  },
  {
   "cell_type": "markdown",
   "id": "4a6e8b37",
   "metadata": {},
   "source": [
    "Most annual members use the classic bike in their rides and they don't use the electric scooter"
   ]
  },
  {
   "cell_type": "code",
   "execution_count": null,
   "id": "bcd82fc3",
   "metadata": {},
   "outputs": [],
   "source": []
  }
 ],
 "metadata": {
  "kernelspec": {
   "display_name": "Python 3 (ipykernel)",
   "language": "python",
   "name": "python3"
  },
  "language_info": {
   "codemirror_mode": {
    "name": "ipython",
    "version": 3
   },
   "file_extension": ".py",
   "mimetype": "text/x-python",
   "name": "python",
   "nbconvert_exporter": "python",
   "pygments_lexer": "ipython3",
   "version": "3.9.13"
  }
 },
 "nbformat": 4,
 "nbformat_minor": 5
}
